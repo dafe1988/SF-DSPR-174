{
  "cells": [
    {
      "cell_type": "markdown",
      "id": "00009cca",
      "metadata": {
        "id": "00009cca"
      },
      "source": [
        "# Классификация текстов с использованием Наивного Байесовского Классификатора"
      ]
    },
    {
      "cell_type": "code",
      "execution_count": 20,
      "id": "dffef2de",
      "metadata": {},
      "outputs": [],
      "source": [
        "import warnings\n",
        "warnings.filterwarnings('ignore')\n",
        "\n",
        "import numpy as np\n",
        "import pandas as pd\n",
        "import seaborn as sns\n",
        "import matplotlib.pyplot as plt\n",
        "\n",
        "from sklearn.model_selection import train_test_split\n",
        "from sklearn.model_selection import GridSearchCV\n",
        "from sklearn.feature_extraction.text import CountVectorizer\n",
        "from sklearn.naive_bayes import MultinomialNB, ComplementNB\n",
        "from sklearn.metrics import classification_report, accuracy_score, precision_score, recall_score, f1_score\n",
        "from sklearn.metrics import roc_curve, roc_auc_score"
      ]
    },
    {
      "cell_type": "markdown",
      "id": "a52414b8",
      "metadata": {
        "id": "a52414b8"
      },
      "source": [
        "## Задание 1 (1 балл)"
      ]
    },
    {
      "cell_type": "markdown",
      "id": "f5f27b43",
      "metadata": {
        "id": "f5f27b43"
      },
      "source": [
        "Откройте данные. Узнайте, сколько в них спам- и не спам-писем. Визуализируйте полученные соотношение подходящим образом."
      ]
    },
    {
      "cell_type": "code",
      "execution_count": 2,
      "id": "ac369274",
      "metadata": {
        "id": "ac369274"
      },
      "outputs": [
        {
          "data": {
            "application/vnd.microsoft.datawrangler.viewer.v0+json": {
              "columns": [
                {
                  "name": "index",
                  "rawType": "int64",
                  "type": "integer"
                },
                {
                  "name": "email",
                  "rawType": "object",
                  "type": "string"
                },
                {
                  "name": "label",
                  "rawType": "int64",
                  "type": "integer"
                }
              ],
              "ref": "7afc8300-a868-4557-a9cd-710bed4345d4",
              "rows": [
                [
                  "0",
                  " date wed NUMBER aug NUMBER NUMBER NUMBER NUMBER NUMBER from chris garrigues cwg dated NUMBER NUMBERfaNUMBERd deepeddy com message id NUMBER NUMBER tmda deepeddy vircio com i can t reproduce this error for me it is very repeatable like every time without fail this is the debug log of the pick happening NUMBER NUMBER NUMBER pick_it exec pick inbox list lbrace lbrace subject ftp rbrace rbrace NUMBER NUMBER sequence mercury NUMBER NUMBER NUMBER exec pick inbox list lbrace lbrace subject ftp rbrace rbrace NUMBER NUMBER sequence mercury NUMBER NUMBER NUMBER ftoc_pickmsgs NUMBER hit NUMBER NUMBER NUMBER marking NUMBER hits NUMBER NUMBER NUMBER tkerror syntax error in expression int note if i run the pick command by hand delta pick inbox list lbrace lbrace subject ftp rbrace rbrace NUMBER NUMBER sequence mercury NUMBER hit that s where the NUMBER hit comes from obviously the version of nmh i m using is delta pick version pick nmh NUMBER NUMBER NUMBER compiled on URL at sun mar NUMBER NUMBER NUMBER NUMBER ict NUMBER and the relevant part of my mh_profile delta mhparam pick seq sel list since the pick command works the sequence actually both of them the one that s explicit on the command line from the search popup and the one that comes from mh_profile do get created kre ps this is still using the version of the code form a day ago i haven t been able to reach the cvs repository today local routing issue i think _______________________________________________ exmh workers mailing list exmh workers URL URL ",
                  "0"
                ],
                [
                  "1",
                  "martin a posted tassos papadopoulos the greek sculptor behind the plan judged that the limestone of mount kerdylio NUMBER miles east of salonika and not far from the mount athos monastic community was ideal for the patriotic sculpture as well as alexander s granite features NUMBER ft high and NUMBER ft wide a museum a restored amphitheatre and car park for admiring crowds are planned so is this mountain limestone or granite if it s limestone it ll weather pretty fast yahoo groups sponsor NUMBER dvds free s p join now URL to unsubscribe from this group send an email to forteana unsubscribe URL your use of yahoo groups is subject to URL ",
                  "0"
                ],
                [
                  "2",
                  "man threatens explosion in moscow thursday august NUMBER NUMBER NUMBER NUMBER pm moscow ap security officers on thursday seized an unidentified man who said he was armed with explosives and threatened to blow up his truck in front of russia s federal security services headquarters in moscow ntv television reported the officers seized an automatic rifle the man was carrying then the man got out of the truck and was taken into custody ntv said no other details were immediately available the man had demanded talks with high government officials the interfax and itar tass news agencies said ekho moskvy radio reported that he wanted to talk with russian president vladimir putin police and security forces rushed to the security service building within blocks of the kremlin red square and the bolshoi ballet and surrounded the man who claimed to have one and a half tons of explosives the news agencies said negotiations continued for about one and a half hours outside the building itar tass and interfax reported citing witnesses the man later drove away from the building under police escort and drove to a street near moscow s olympic penta hotel where authorities held further negotiations with him the moscow police press service said the move appeared to be an attempt by security services to get him to a more secure location yahoo groups sponsor NUMBER dvds free s p join now URL to unsubscribe from this group send an email to forteana unsubscribe URL your use of yahoo groups is subject to URL ",
                  "0"
                ],
                [
                  "3",
                  "klez the virus that won t die already the most prolific virus ever klez continues to wreak havoc andrew brandt from the september NUMBER issue of pc world magazine posted thursday august NUMBER NUMBER the klez worm is approaching its seventh month of wriggling across the web making it one of the most persistent viruses ever and experts warn that it may be a harbinger of new viruses that use a combination of pernicious approaches to go from pc to pc antivirus software makers symantec and mcafee both report more than NUMBER new infections daily with no sign of letup at press time the british security firm messagelabs estimates that NUMBER in every NUMBER e mail messages holds a variation of the klez virus and says that klez has already surpassed last summer s sircam as the most prolific virus ever and some newer klez variants aren t merely nuisances they can carry other viruses in them that corrupt your data URL _______________________________________________ irregulars mailing list irregulars URL URL ",
                  "0"
                ],
                [
                  "4",
                  " in adding cream to spaghetti carbonara which has the same effect on pasta as making a pizza a deep pie i just had to jump in here as carbonara is one of my favourites to make and ask what the hell are you supposed to use instead of cream i ve never seen a recipe that hasn t used this personally i use low fat creme fraiche because it works quite nicely but the only time i ve seen an supposedly authentic recipe for carbonara it was identical to mine cream eggs and lots of fresh parmesan except for the creme fraiche stew stewart smith scottish microelectronics centre university of edinburgh URL yahoo groups sponsor NUMBER dvds free s p join now URL to unsubscribe from this group send an email to forteana unsubscribe URL your use of yahoo groups is subject to URL ",
                  "0"
                ]
              ],
              "shape": {
                "columns": 2,
                "rows": 5
              }
            },
            "text/html": [
              "<div>\n",
              "<style scoped>\n",
              "    .dataframe tbody tr th:only-of-type {\n",
              "        vertical-align: middle;\n",
              "    }\n",
              "\n",
              "    .dataframe tbody tr th {\n",
              "        vertical-align: top;\n",
              "    }\n",
              "\n",
              "    .dataframe thead th {\n",
              "        text-align: right;\n",
              "    }\n",
              "</style>\n",
              "<table border=\"1\" class=\"dataframe\">\n",
              "  <thead>\n",
              "    <tr style=\"text-align: right;\">\n",
              "      <th></th>\n",
              "      <th>email</th>\n",
              "      <th>label</th>\n",
              "    </tr>\n",
              "  </thead>\n",
              "  <tbody>\n",
              "    <tr>\n",
              "      <th>0</th>\n",
              "      <td>date wed NUMBER aug NUMBER NUMBER NUMBER NUMB...</td>\n",
              "      <td>0</td>\n",
              "    </tr>\n",
              "    <tr>\n",
              "      <th>1</th>\n",
              "      <td>martin a posted tassos papadopoulos the greek ...</td>\n",
              "      <td>0</td>\n",
              "    </tr>\n",
              "    <tr>\n",
              "      <th>2</th>\n",
              "      <td>man threatens explosion in moscow thursday aug...</td>\n",
              "      <td>0</td>\n",
              "    </tr>\n",
              "    <tr>\n",
              "      <th>3</th>\n",
              "      <td>klez the virus that won t die already the most...</td>\n",
              "      <td>0</td>\n",
              "    </tr>\n",
              "    <tr>\n",
              "      <th>4</th>\n",
              "      <td>in adding cream to spaghetti carbonara which ...</td>\n",
              "      <td>0</td>\n",
              "    </tr>\n",
              "  </tbody>\n",
              "</table>\n",
              "</div>"
            ],
            "text/plain": [
              "                                               email  label\n",
              "0   date wed NUMBER aug NUMBER NUMBER NUMBER NUMB...      0\n",
              "1  martin a posted tassos papadopoulos the greek ...      0\n",
              "2  man threatens explosion in moscow thursday aug...      0\n",
              "3  klez the virus that won t die already the most...      0\n",
              "4   in adding cream to spaghetti carbonara which ...      0"
            ]
          },
          "execution_count": 2,
          "metadata": {},
          "output_type": "execute_result"
        }
      ],
      "source": [
        "# откройте данные: ваш код здесь\n",
        "email_data = pd.read_csv('data/spam_or_not_spam.csv')\n",
        "email_data.head()"
      ]
    },
    {
      "cell_type": "code",
      "execution_count": 3,
      "id": "f4231781",
      "metadata": {
        "id": "f4231781"
      },
      "outputs": [
        {
          "name": "stdout",
          "output_type": "stream",
          "text": [
            "Распределение классов относительное: label\n",
            "0    0.833333\n",
            "1    0.166667\n",
            "Name: proportion, dtype: float64\n",
            "\n",
            "Распределение классов количественное: label\n",
            "0    2500\n",
            "1     500\n",
            "Name: count, dtype: int64\n"
          ]
        }
      ],
      "source": [
        "# рассчитайте частоты для классов : ваш код здесь\n",
        "df = email_data.copy()\n",
        "class_frequencies = df['label'].value_counts(normalize=True)\n",
        "class_counts = df['label'].value_counts()\n",
        "\n",
        "print(f'Распределение классов относительное: {class_frequencies}\\n')\n",
        "print(f'Распределение классов количественное: {class_counts}')"
      ]
    },
    {
      "cell_type": "code",
      "execution_count": 4,
      "id": "9b871636",
      "metadata": {
        "id": "9b871636"
      },
      "outputs": [
        {
          "data": {
            "image/png": "[encoded data removed]",
            "text/plain": [
              "<Figure size 800x500 with 2 Axes>"
            ]
          },
          "metadata": {},
          "output_type": "display_data"
        }
      ],
      "source": [
        "# визуализируйте результат: ваш код здесь\n",
        "class_frequencies.index = ['Не спам', 'Спам']\n",
        "\n",
        "fig, axes = plt.subplots(1, 2, figsize=(8, 5))\n",
        "\n",
        "# Столбчатая диаграмма \n",
        "sns.barplot(data=class_frequencies, palette=['blue', 'orange'], ax=axes[0])\n",
        "axes[0].set_title('Распределение классов')\n",
        "axes[0].set_xlabel('Класс')\n",
        "axes[0].set_ylabel('Доля')\n",
        "\n",
        "# Круговая диаграмма \n",
        "axes[1].pie(\n",
        "    class_frequencies, \n",
        "    labels=['Не спам', 'Спам'],\n",
        "    autopct='%1.1f%%',\n",
        "    startangle=90,\n",
        "    colors=['blue', 'orange']\n",
        ")\n",
        "axes[1].set_title('Распределение классов')\n",
        "axes[1].set_ylabel('')  # скрываем метку по оси y\n",
        "\n",
        "plt.tight_layout()\n",
        "plt.show()"
      ]
    },
    {
      "cell_type": "markdown",
      "id": "b161614b",
      "metadata": {
        "id": "b161614b"
      },
      "source": [
        "## Задание 2 (2 балла)"
      ]
    },
    {
      "cell_type": "markdown",
      "id": "dd29763b",
      "metadata": {
        "id": "dd29763b"
      },
      "source": [
        "Вам необходимо предобработать ваши данные и перевести их в векторный вид. Подгрузим необходимый модуль:"
      ]
    },
    {
      "cell_type": "code",
      "execution_count": 5,
      "id": "382eac9c",
      "metadata": {
        "id": "382eac9c"
      },
      "outputs": [],
      "source": [
        "from sklearn.feature_extraction.text import CountVectorizer"
      ]
    },
    {
      "cell_type": "markdown",
      "id": "89546b95",
      "metadata": {
        "id": "89546b95"
      },
      "source": [
        "Замените в данных все пустые строки и строки, состоящие из пробелов, на пропуски (NaN). После этого удалите из данных все строки, в которых наблюдаются пропущенные значения."
      ]
    },
    {
      "cell_type": "code",
      "execution_count": 6,
      "id": "45180f82",
      "metadata": {
        "id": "45180f82"
      },
      "outputs": [
        {
          "name": "stdout",
          "output_type": "stream",
          "text": [
            "Число строк до очистки: 3000\n",
            "Число строк после очистки: 2997\n"
          ]
        }
      ],
      "source": [
        "#ваш код здесь\n",
        "df['email'] = df['email'].apply(lambda x: np.nan if isinstance(x, str) and x.strip() == '' else x)\n",
        "df['email'] = df['email'].str.lower()\n",
        "df_cleaned = df.dropna()\n",
        "\n",
        "print('Число строк до очистки:', len(df))\n",
        "print('Число строк после очистки:', len(df_cleaned))"
      ]
    },
    {
      "cell_type": "markdown",
      "id": "2ca2fe88",
      "metadata": {
        "id": "2ca2fe88"
      },
      "source": [
        "Переводим данные в векторный вид:"
      ]
    },
    {
      "cell_type": "code",
      "execution_count": 7,
      "id": "29e9a37b",
      "metadata": {
        "id": "29e9a37b"
      },
      "outputs": [],
      "source": [
        "vectorizer = CountVectorizer()\n",
        "X = vectorizer.fit_transform(df_cleaned[\"email\"])"
      ]
    },
    {
      "cell_type": "markdown",
      "id": "88c8b726",
      "metadata": {
        "id": "88c8b726"
      },
      "source": [
        "Определите, сколько теперь признаков в нашем наборе данных:"
      ]
    },
    {
      "cell_type": "code",
      "execution_count": 8,
      "id": "f19c2a02",
      "metadata": {
        "id": "f19c2a02"
      },
      "outputs": [
        {
          "name": "stdout",
          "output_type": "stream",
          "text": [
            "Количество признаков в наборе данных: 34116\n"
          ]
        }
      ],
      "source": [
        "#ваш код здесь\n",
        "num_features = X.shape[1]\n",
        "\n",
        "print(f'Количество признаков в наборе данных: {num_features}')"
      ]
    },
    {
      "cell_type": "markdown",
      "id": "1803f282",
      "metadata": {
        "id": "1803f282"
      },
      "source": [
        "## Задание 3 (2 балла)"
      ]
    },
    {
      "cell_type": "markdown",
      "id": "39f400b7",
      "metadata": {
        "id": "39f400b7"
      },
      "source": [
        "Определите целевую переменную и признаки:"
      ]
    },
    {
      "cell_type": "code",
      "execution_count": 9,
      "id": "31f1acb6",
      "metadata": {
        "id": "31f1acb6"
      },
      "outputs": [
        {
          "name": "stdout",
          "output_type": "stream",
          "text": [
            "Размер целевой переменной: (2997,)\n",
            "Размер матрицы признаков: (2997, 34116)\n"
          ]
        }
      ],
      "source": [
        "#ваш код здесь\n",
        "y = df_cleaned['label']\n",
        "\n",
        "print(f'Размер целевой переменной: {y.shape}')\n",
        "print(f'Размер матрицы признаков: {X.shape}')"
      ]
    },
    {
      "cell_type": "markdown",
      "id": "b20f273e",
      "metadata": {
        "id": "b20f273e"
      },
      "source": [
        "Разделите выборку на обучающую и тестовую, используя стратифицированное разбиение (параметр `stratify` установите в значение вектора ответов y) размер тестовой выборки (`test_size`) возьмите как 0.25, параметр `random_state` определите со значением 42:"
      ]
    },
    {
      "cell_type": "code",
      "execution_count": 10,
      "id": "96538fb6",
      "metadata": {
        "id": "96538fb6"
      },
      "outputs": [
        {
          "name": "stdout",
          "output_type": "stream",
          "text": [
            "Размер обучающей выборки: 2247\n",
            "Размер тестовой выборки: 750\n"
          ]
        }
      ],
      "source": [
        "#ваш код здесь\n",
        "X_train, X_test, y_train, y_test = train_test_split(X, y, test_size=0.25, stratify=y, random_state=42)\n",
        "\n",
        "print(f'Размер обучающей выборки: {X_train.shape[0]}')\n",
        "print(f'Размер тестовой выборки: {X_test.shape[0]}')"
      ]
    },
    {
      "cell_type": "markdown",
      "id": "139dac3d",
      "metadata": {
        "id": "139dac3d"
      },
      "source": [
        "Рассчитайте среднее значение целевой переменной по тестовой выборке:"
      ]
    },
    {
      "cell_type": "code",
      "execution_count": 11,
      "id": "e9baf72d",
      "metadata": {
        "id": "e9baf72d"
      },
      "outputs": [
        {
          "name": "stdout",
          "output_type": "stream",
          "text": [
            "Cреднее значение целевой переменной по тестовой выборке: 0.165\n"
          ]
        }
      ],
      "source": [
        "#ваш код здесь\n",
        "print(f'Cреднее значение целевой переменной по тестовой выборке: {y_test.mean().round(3)}')"
      ]
    },
    {
      "cell_type": "markdown",
      "id": "710e0e94",
      "metadata": {
        "id": "710e0e94"
      },
      "source": [
        "## Задание 4 (3 балла)"
      ]
    },
    {
      "cell_type": "markdown",
      "id": "26cf6885",
      "metadata": {
        "id": "26cf6885"
      },
      "source": [
        "Определите и обучите подходящий алгоритм с параметром alpha = 0.01"
      ]
    },
    {
      "cell_type": "code",
      "execution_count": 12,
      "id": "4865dd78",
      "metadata": {
        "id": "4865dd78"
      },
      "outputs": [
        {
          "name": "stdout",
          "output_type": "stream",
          "text": [
            "              precision    recall  f1-score   support\n",
            "\n",
            "           0       1.00      1.00      1.00      1874\n",
            "           1       1.00      0.99      1.00       373\n",
            "\n",
            "    accuracy                           1.00      2247\n",
            "   macro avg       1.00      1.00      1.00      2247\n",
            "weighted avg       1.00      1.00      1.00      2247\n",
            "\n",
            "              precision    recall  f1-score   support\n",
            "\n",
            "           0       0.98      1.00      0.99       626\n",
            "           1       1.00      0.92      0.96       124\n",
            "\n",
            "    accuracy                           0.99       750\n",
            "   macro avg       0.99      0.96      0.98       750\n",
            "weighted avg       0.99      0.99      0.99       750\n",
            "\n"
          ]
        }
      ],
      "source": [
        "#ваш код здесь\n",
        "mnb = MultinomialNB(alpha=0.01)\n",
        "mnb.fit(X_train, y_train)\n",
        "\n",
        "y_pred_train_mnb = mnb.predict(X_train)\n",
        "y_pred_test_mnb = mnb.predict(X_test)\n",
        "\n",
        "#Выводим значения метрик для тренировочной выборки\n",
        "print(classification_report(y_train, y_pred_train_mnb))\n",
        "#Выводим значения метрик для тестовой выборки\n",
        "print(classification_report(y_test, y_pred_test_mnb))"
      ]
    },
    {
      "cell_type": "code",
      "execution_count": 13,
      "id": "048f9fc9",
      "metadata": {},
      "outputs": [
        {
          "name": "stdout",
          "output_type": "stream",
          "text": [
            "              precision    recall  f1-score   support\n",
            "\n",
            "           0       1.00      1.00      1.00      1874\n",
            "           1       1.00      1.00      1.00       373\n",
            "\n",
            "    accuracy                           1.00      2247\n",
            "   macro avg       1.00      1.00      1.00      2247\n",
            "weighted avg       1.00      1.00      1.00      2247\n",
            "\n",
            "              precision    recall  f1-score   support\n",
            "\n",
            "           0       0.99      1.00      0.99       626\n",
            "           1       1.00      0.93      0.96       124\n",
            "\n",
            "    accuracy                           0.99       750\n",
            "   macro avg       0.99      0.96      0.98       750\n",
            "weighted avg       0.99      0.99      0.99       750\n",
            "\n"
          ]
        }
      ],
      "source": [
        "cnb = ComplementNB(alpha=0.01)\n",
        "cnb.fit(X_train, y_train)\n",
        "\n",
        "y_pred_train_cnb = cnb.predict(X_train)\n",
        "y_pred_test_cnb = cnb.predict(X_test)\n",
        "\n",
        "#Выводим значения метрик для тренировочной выборки\n",
        "print(classification_report(y_train, y_pred_train_cnb))\n",
        "#Выводим значения метрик для тестовой выборки\n",
        "print(classification_report(y_test, y_pred_test_cnb))"
      ]
    },
    {
      "cell_type": "markdown",
      "id": "d803fbe3",
      "metadata": {
        "id": "d803fbe3"
      },
      "source": [
        "Оцените результат с точки зрения всех известных вам метрик (не менее трёх):"
      ]
    },
    {
      "cell_type": "code",
      "execution_count": 14,
      "id": "b0bbc4d2",
      "metadata": {
        "id": "b0bbc4d2"
      },
      "outputs": [
        {
          "name": "stdout",
          "output_type": "stream",
          "text": [
            "Точность (Accuracy) ComplementNB: 0.988\n",
            "Точность (Precision) ComplementNB: 1.000\n",
            "Полнота (Recall) ComplementNB: 0.927\n",
            "F1-мера ComplementNB: 0.962\n"
          ]
        }
      ],
      "source": [
        "#ваш код здесь\n",
        "accuracy_cnb = accuracy_score(y_test, y_pred_test_cnb)\n",
        "precision_cnb = precision_score(y_test, y_pred_test_cnb)\n",
        "recall_cnb = recall_score(y_test, y_pred_test_cnb)\n",
        "f1_cnb = f1_score(y_test, y_pred_test_cnb)\n",
        "\n",
        "print(f'Точность (Accuracy) ComplementNB: {accuracy_cnb:.3f}')\n",
        "print(f'Точность (Precision) ComplementNB: {precision_cnb:.3f}')\n",
        "print(f'Полнота (Recall) ComplementNB: {recall_cnb:.3f}')\n",
        "print(f'F1-мера ComplementNB: {f1_cnb:.3f}')\n"
      ]
    },
    {
      "cell_type": "code",
      "execution_count": 15,
      "id": "276117e7",
      "metadata": {},
      "outputs": [
        {
          "name": "stdout",
          "output_type": "stream",
          "text": [
            "Точность (Accuracy) MultinomialNB: 0.987\n",
            "Точность (Precision) MultinomialNB: 1.000\n",
            "Полнота (Recall) MultinomialNB: 0.919\n",
            "F1-мера MultinomialNB: 0.958\n"
          ]
        }
      ],
      "source": [
        "accuracy_mnb = accuracy_score(y_test, y_pred_test_mnb)\n",
        "precision_mnb = precision_score(y_test, y_pred_test_mnb)\n",
        "recall_mnb = recall_score(y_test, y_pred_test_mnb)\n",
        "f1_mnb = f1_score(y_test, y_pred_test_mnb)\n",
        "\n",
        "print(f'Точность (Accuracy) MultinomialNB: {accuracy_mnb:.3f}')\n",
        "print(f'Точность (Precision) MultinomialNB: {precision_mnb:.3f}')\n",
        "print(f'Полнота (Recall) MultinomialNB: {recall_mnb:.3f}')\n",
        "print(f'F1-мера MultinomialNB: {f1_mnb:.3f}')"
      ]
    },
    {
      "cell_type": "markdown",
      "id": "c85976d1",
      "metadata": {
        "id": "c85976d1"
      },
      "source": [
        "Нарисуйте ROC-кривую:"
      ]
    },
    {
      "cell_type": "code",
      "execution_count": 22,
      "id": "b4195126",
      "metadata": {
        "id": "b4195126"
      },
      "outputs": [
        {
          "data": {
            "image/png": "[encoded data removed]",
            "text/plain": [
              "<Figure size 800x500 with 1 Axes>"
            ]
          },
          "metadata": {},
          "output_type": "display_data"
        }
      ],
      "source": [
        "#ваш код здесь\n",
        "# Предсказанные вероятности для положительного класса\n",
        "y_pred_proba = cnb.predict_proba(X_test)[:, 1]\n",
        "\n",
        "# Вычисляем FPR и TPR для построения кривой\n",
        "fpr, tpr, _ = roc_curve(y_test, y_pred_proba)\n",
        "\n",
        "# Вычисляем AUC ROC по готовым меткам и вероятностям\n",
        "roc_auc = roc_auc_score(y_test, y_pred_proba)\n",
        "\n",
        "# Визуализация ROC-кривой\n",
        "plt.figure(figsize=(8, 5))\n",
        "sns.lineplot(x=fpr, y=tpr, label=f'ROC AUC = {roc_auc:.2f}')\n",
        "plt.plot([0, 1], [0, 1], 'k--', label='Случайная модель')\n",
        "plt.xlabel('False Positive Rate')\n",
        "plt.ylabel('True Positive Rate')\n",
        "plt.title('ROC-кривая')\n",
        "plt.legend(loc='lower right')\n",
        "plt.grid(True)\n",
        "plt.tight_layout()\n",
        "plt.show()"
      ]
    },
    {
      "cell_type": "markdown",
      "id": "cf0bb49b",
      "metadata": {
        "id": "cf0bb49b"
      },
      "source": [
        "## Задание 5 (3 балла)"
      ]
    },
    {
      "cell_type": "markdown",
      "id": "30b7a0ae",
      "metadata": {
        "id": "30b7a0ae"
      },
      "source": [
        "Переберите несколько значений alpha с помощью кросс-валидации. Оцените, зависит ли от этого параметра качество классификации."
      ]
    },
    {
      "cell_type": "code",
      "execution_count": 26,
      "id": "3513d907",
      "metadata": {
        "id": "3513d907"
      },
      "outputs": [
        {
          "name": "stdout",
          "output_type": "stream",
          "text": [
            "Лучшее значение alpha: 0.5\n",
            "Лучшая точность (кросс-валидация): 0.991\n",
            "\n",
            "Классификационный отчет на тесте:\n",
            "\n",
            "              precision    recall  f1-score   support\n",
            "\n",
            "           0       1.00      1.00      1.00       626\n",
            "           1       0.99      0.98      0.98       124\n",
            "\n",
            "    accuracy                           0.99       750\n",
            "   macro avg       0.99      0.99      0.99       750\n",
            "weighted avg       0.99      0.99      0.99       750\n",
            "\n"
          ]
        }
      ],
      "source": [
        "#ваш код здесь\n",
        "# Задаём сетку параметров\n",
        "param_grid = {\n",
        "    'alpha': [0.001, 0.01, 0.1, 0.5, 1, 5, 10]\n",
        "}\n",
        "\n",
        "# Настройка GridSearchCV\n",
        "grid = GridSearchCV(ComplementNB(), param_grid, cv=5, scoring='accuracy', n_jobs=-1)\n",
        "\n",
        "# Обучение на обучающей выборке (векторизованной)\n",
        "grid.fit(X_train, y_train)\n",
        "\n",
        "# Вывод лучших параметров и точности\n",
        "print(\"Лучшее значение alpha:\", grid.best_params_['alpha'])\n",
        "print(\"Лучшая точность (кросс-валидация):\", round(grid.best_score_, 3))\n",
        "\n",
        "# Предсказание и отчёт\n",
        "y_pred = grid.predict(X_test)\n",
        "print(\"\\nКлассификационный отчет на тесте:\\n\")\n",
        "print(classification_report(y_test, y_pred))"
      ]
    },
    {
      "cell_type": "code",
      "execution_count": 27,
      "id": "c0f16703",
      "metadata": {},
      "outputs": [
        {
          "data": {
            "image/png": "[encoded data removed]",
            "text/plain": [
              "<Figure size 800x500 with 1 Axes>"
            ]
          },
          "metadata": {},
          "output_type": "display_data"
        }
      ],
      "source": [
        "# Получаем результаты\n",
        "results = pd.DataFrame(grid.cv_results_)\n",
        "alphas = results['param_alpha'].astype(float)\n",
        "mean_scores = results['mean_test_score']\n",
        "\n",
        "# Визуализация\n",
        "plt.figure(figsize=(8, 5))\n",
        "sns.lineplot(x=alphas, y=mean_scores, marker='o')\n",
        "plt.xscale('log')\n",
        "plt.xlabel('Значение alpha (логарифмическая шкала)')\n",
        "plt.ylabel('Средняя точность (CV)')\n",
        "plt.title('Зависимость точности от параметра alpha в ComplementNB')\n",
        "plt.grid(True)\n",
        "plt.tight_layout()\n",
        "plt.show()"
      ]
    },
    {
      "cell_type": "markdown",
      "id": "1404d110",
      "metadata": {},
      "source": [
        "Наблюдается, что слишком маленькие или слишком большие значения alpha могут ухудшать результат."
      ]
    }
  ],
  "metadata": {
    "colab": {
      "name": "SGA_unit6_NBC.ipynb",
      "provenance": []
    },
    "kernelspec": {
      "display_name": "Python 3",
      "language": "python",
      "name": "python3"
    },
    "language_info": {
      "codemirror_mode": {
        "name": "ipython",
        "version": 3
      },
      "file_extension": ".py",
      "mimetype": "text/x-python",
      "name": "python",
      "nbconvert_exporter": "python",
      "pygments_lexer": "ipython3",
      "version": "3.12.3"
    }
  },
  "nbformat": 4,
  "nbformat_minor": 5
}
